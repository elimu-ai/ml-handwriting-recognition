{
 "cells": [
  {
   "cell_type": "code",
   "execution_count": 1,
   "metadata": {},
   "outputs": [],
   "source": [
    "import tensorflow as tf\n",
    "\n",
    "import random\n",
    "from collections import defaultdict\n",
    "from typing import Callable, Dict, List, Optional, Sequence, Tuple, Union\n",
    "import matplotlib.pyplot as plt"
   ]
  },
  {
   "cell_type": "code",
   "execution_count": 2,
   "metadata": {},
   "outputs": [],
   "source": [
    "(x_train, y_train), (x_test, y_test) = tf.keras.datasets.mnist.load_data()\n"
   ]
  },
  {
   "cell_type": "code",
   "execution_count": 3,
   "metadata": {},
   "outputs": [],
   "source": [
    "max_length = 5\n",
    "mnist_digit_dim=28\n",
    "min_overlap = 0.0\n",
    "max_overlap = 0.5\n"
   ]
  },
  {
   "cell_type": "code",
   "execution_count": 4,
   "metadata": {},
   "outputs": [],
   "source": [
    "def add_left_and_right_paddings(number) :\n",
    "    \"\"\"Add paddings to left and right of the number.\"\"\"\n",
    "    digits = [int(digit) for digit in list(str(number))]\n",
    "    remanining_length = max_length - len(digits)\n",
    "    left_padding = random.randint(0, remanining_length)\n",
    "    right_padding = remanining_length - left_padding\n",
    "    digits = [-1] * left_padding + digits + [-1] * right_padding\n",
    "    return digits"
   ]
  },
  {
   "cell_type": "code",
   "execution_count": 5,
   "metadata": {},
   "outputs": [
    {
     "data": {
      "text/plain": [
       "[-1, -1, -1, -1, 1]"
      ]
     },
     "execution_count": 5,
     "metadata": {},
     "output_type": "execute_result"
    }
   ],
   "source": [
    "add_left_and_right_paddings(1)"
   ]
  },
  {
   "cell_type": "code",
   "execution_count": 6,
   "metadata": {},
   "outputs": [],
   "source": [
    "def _get_samples_by_digit() -> Dict[int, List]:\n",
    "    \"\"\"Stores a collection of images for each digit.\"\"\"\n",
    "    samples_by_digit = defaultdict(list)\n",
    "    for image, digit in (zip(x_train, y_train)):\n",
    "        samples_by_digit[digit].append(image.squeeze())\n",
    "    blank_image = tf.zeros((mnist_digit_dim, mnist_digit_dim))\n",
    "    samples_by_digit[-1].append(blank_image)\n",
    "    return samples_by_digit"
   ]
  },
  {
   "cell_type": "code",
   "execution_count": 7,
   "metadata": {},
   "outputs": [
    {
     "name": "stderr",
     "output_type": "stream",
     "text": [
      "2022-06-08 23:56:34.003810: I tensorflow/stream_executor/cuda/cuda_gpu_executor.cc:939] successful NUMA node read from SysFS had negative value (-1), but there must be at least one NUMA node, so returning NUMA node zero\n",
      "2022-06-08 23:56:34.030437: I tensorflow/stream_executor/cuda/cuda_gpu_executor.cc:939] successful NUMA node read from SysFS had negative value (-1), but there must be at least one NUMA node, so returning NUMA node zero\n",
      "2022-06-08 23:56:34.030613: I tensorflow/stream_executor/cuda/cuda_gpu_executor.cc:939] successful NUMA node read from SysFS had negative value (-1), but there must be at least one NUMA node, so returning NUMA node zero\n",
      "2022-06-08 23:56:34.031223: I tensorflow/core/platform/cpu_feature_guard.cc:151] This TensorFlow binary is optimized with oneAPI Deep Neural Network Library (oneDNN) to use the following CPU instructions in performance-critical operations:  SSE4.1 SSE4.2 AVX AVX2 FMA\n",
      "To enable them in other operations, rebuild TensorFlow with the appropriate compiler flags.\n",
      "2022-06-08 23:56:34.031748: I tensorflow/stream_executor/cuda/cuda_gpu_executor.cc:939] successful NUMA node read from SysFS had negative value (-1), but there must be at least one NUMA node, so returning NUMA node zero\n",
      "2022-06-08 23:56:34.031970: I tensorflow/stream_executor/cuda/cuda_gpu_executor.cc:939] successful NUMA node read from SysFS had negative value (-1), but there must be at least one NUMA node, so returning NUMA node zero\n",
      "2022-06-08 23:56:34.032160: I tensorflow/stream_executor/cuda/cuda_gpu_executor.cc:939] successful NUMA node read from SysFS had negative value (-1), but there must be at least one NUMA node, so returning NUMA node zero\n",
      "2022-06-08 23:56:34.402259: I tensorflow/stream_executor/cuda/cuda_gpu_executor.cc:939] successful NUMA node read from SysFS had negative value (-1), but there must be at least one NUMA node, so returning NUMA node zero\n",
      "2022-06-08 23:56:34.402414: I tensorflow/stream_executor/cuda/cuda_gpu_executor.cc:939] successful NUMA node read from SysFS had negative value (-1), but there must be at least one NUMA node, so returning NUMA node zero\n",
      "2022-06-08 23:56:34.402532: I tensorflow/stream_executor/cuda/cuda_gpu_executor.cc:939] successful NUMA node read from SysFS had negative value (-1), but there must be at least one NUMA node, so returning NUMA node zero\n",
      "2022-06-08 23:56:34.402635: I tensorflow/core/common_runtime/gpu/gpu_device.cc:1525] Created device /job:localhost/replica:0/task:0/device:GPU:0 with 8832 MB memory:  -> device: 0, name: NVIDIA GeForce RTX 3060, pci bus id: 0000:26:00.0, compute capability: 8.6\n"
     ]
    }
   ],
   "source": [
    "samples_by_digit = _get_samples_by_digit()"
   ]
  },
  {
   "cell_type": "code",
   "execution_count": 8,
   "metadata": {},
   "outputs": [],
   "source": [
    "\n",
    "def construct_image_from_number(number: int) -> tf.Tensor:\n",
    "    \"\"\"Concatenate images of single digits.\"\"\"\n",
    "    overlap = random.uniform(min_overlap, max_overlap)\n",
    "    overlap_width = int(overlap * mnist_digit_dim)\n",
    "    width_increment = mnist_digit_dim - overlap_width\n",
    "    x, y = 0, 2  # Current pointers at x and y coordinates\n",
    "    digits = add_left_and_right_paddings(number)\n",
    "    multi_digit_image = tf.zeros((32, mnist_digit_dim * max_length)).numpy()\n",
    "    for digit in digits:\n",
    "        digit_image = random.choice(samples_by_digit[digit])\n",
    "        digit_image = tf.identity(\n",
    "            digit_image\n",
    "        ).numpy()  # To avoid overwriting the original image\n",
    "        digit_image[:, :overlap_width] = tf.maximum(\n",
    "            multi_digit_image[y : y + mnist_digit_dim, x : x + overlap_width],\n",
    "            digit_image[:, :overlap_width],\n",
    "        )\n",
    "        multi_digit_image[\n",
    "            y : y + mnist_digit_dim, x : x + mnist_digit_dim\n",
    "        ] = digit_image\n",
    "        x += width_increment\n",
    "    return multi_digit_image"
   ]
  },
  {
   "cell_type": "code",
   "execution_count": 12,
   "metadata": {},
   "outputs": [
    {
     "data": {
      "text/plain": [
       "(32, 140)"
      ]
     },
     "execution_count": 12,
     "metadata": {},
     "output_type": "execute_result"
    }
   ],
   "source": [
    "construct_image_from_number(5000).shape\n"
   ]
  },
  {
   "cell_type": "code",
   "execution_count": 15,
   "metadata": {},
   "outputs": [
    {
     "data": {
      "text/plain": [
       "<matplotlib.image.AxesImage at 0x7f6c904f7310>"
      ]
     },
     "execution_count": 15,
     "metadata": {},
     "output_type": "execute_result"
    },
    {
     "data": {
      "image/png": "[encoded data removed]",
      "text/plain": [
       "<Figure size 432x288 with 1 Axes>"
      ]
     },
     "metadata": {
      "needs_background": "light"
     },
     "output_type": "display_data"
    }
   ],
   "source": [
    "plt.imshow(construct_image_from_number(20010))"
   ]
  },
  {
   "cell_type": "code",
   "execution_count": null,
   "metadata": {},
   "outputs": [],
   "source": []
  }
 ],
 "metadata": {
  "interpreter": {
   "hash": "506411e825f61294fb9dc9bff6277b4695a02c105735c59479c7043a4389767c"
  },
  "kernelspec": {
   "display_name": "Python 3.9.7 ('musegan')",
   "language": "python",
   "name": "python3"
  },
  "language_info": {
   "codemirror_mode": {
    "name": "ipython",
    "version": 3
   },
   "file_extension": ".py",
   "mimetype": "text/x-python",
   "name": "python",
   "nbconvert_exporter": "python",
   "pygments_lexer": "ipython3",
   "version": "3.9.7"
  },
  "orig_nbformat": 4
 },
 "nbformat": 4,
 "nbformat_minor": 2
}
